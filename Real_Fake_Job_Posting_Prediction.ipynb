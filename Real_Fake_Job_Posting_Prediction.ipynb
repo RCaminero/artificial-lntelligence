{
  "nbformat": 4,
  "nbformat_minor": 0,
  "metadata": {
    "colab": {
      "provenance": [],
      "authorship_tag": "ABX9TyOOuZhS0Yk7m9EvdvywhN3D",
      "include_colab_link": true
    },
    "kernelspec": {
      "name": "python3",
      "display_name": "Python 3"
    },
    "language_info": {
      "name": "python"
    }
  },
  "cells": [
    {
      "cell_type": "markdown",
      "metadata": {
        "id": "view-in-github",
        "colab_type": "text"
      },
      "source": [
        "<a href=\"https://colab.research.google.com/github/RCaminero/artificial-lntelligence/blob/main/Real_Fake_Job_Posting_Prediction.ipynb\" target=\"_parent\"><img src=\"https://colab.research.google.com/assets/colab-badge.svg\" alt=\"Open In Colab\"/></a>"
      ]
    },
    {
      "cell_type": "markdown",
      "source": [
        "### Importing necessary libraries"
      ],
      "metadata": {
        "id": "LPpfjw2Wkhxn"
      }
    },
    {
      "cell_type": "code",
      "execution_count": null,
      "metadata": {
        "id": "F0iMeS7YkTrs"
      },
      "outputs": [],
      "source": [
        "import pandas as pd #data processing\n",
        "import numpy as np #linear_algebra\n",
        "import matplotlib.pyplot as plt #visual\n",
        "import seaborn as sns #visual\n",
        "import warnings\n",
        "warnings.filterwarnings('ignore')\n",
        "#Handling text \n",
        "import nltk\n",
        "nltk.download('stopwords')\n",
        "import re\n",
        "from sklearn.feature_extraction.text import TfidfVectorizer\n",
        "from sklearn.feature_extraction.text import CountVectorizer\n",
        "from sklearn.preprocessing import LabelEncoder\n",
        "from sklearn.preprocessing import OneHotEncoder\n",
        "from nltk.stem import PorterStemmer\n",
        "from nltk.corpus import stopwords\n",
        "from nltk.tokenize import word_tokenize,sent_tokenize\n",
        "from wordcloud import WordCloud,STOPWORDS\n",
        "#machine learning preprocessing & classification models\n",
        "from sklearn.model_selection import train_test_split\n",
        "from sklearn.metrics import precision_score,recall_score,confusion_matrix,f1_score,accuracy_score,classification_report,plot_confusion_matrix\n",
        "from sklearn.naive_bayes import MultinomialNB\n",
        "from sklearn.linear_model import LogisticRegression\n",
        "from sklearn.neighbors import KNeighborsClassifier\n",
        "from sklearn.svm import SVC\n",
        "from sklearn.tree import DecisionTreeClassifier\n",
        "from sklearn.ensemble import RandomForestClassifier\n",
        "import xgboost as xgb\n",
        "from sklearn.ensemble import AdaBoostClassifier\n",
        "\n",
        "# https://www.kaggle.com/code/hossamahmedaly/real-fake-jobs-classification-eda-nb-96/notebook"
      ]
    },
    {
      "cell_type": "code",
      "source": [
        "from google.colab import drive # We use that for use our content in drive\n",
        "drive.mount('/content/drive')"
      ],
      "metadata": {
        "id": "ECMtq3jnlT1o"
      },
      "execution_count": null,
      "outputs": []
    },
    {
      "cell_type": "code",
      "source": [
        "df = pd.read_csv('/content/fake_job_postings.csv')\n",
        "df.head(10)"
      ],
      "metadata": {
        "id": "pAi3VINalY34"
      },
      "execution_count": null,
      "outputs": []
    },
    {
      "cell_type": "code",
      "source": [
        "categories=['telecommuting','has_company_logo','has_questions','employment_type','required_experience','required_education','industry','function','fraudulent']"
      ],
      "metadata": {
        "id": "Yrtr__llOC5z"
      },
      "execution_count": null,
      "outputs": []
    },
    {
      "cell_type": "code",
      "source": [
        "for i in categories:\n",
        "     x=df[i].value_counts()\n",
        "     print (x.to_frame())"
      ],
      "metadata": {
        "id": "eFpMZzDKOFfL"
      },
      "execution_count": null,
      "outputs": []
    }
  ]
}